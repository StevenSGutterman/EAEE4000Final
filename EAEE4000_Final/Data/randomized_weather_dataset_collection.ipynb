{
 "cells": [
  {
   "cell_type": "markdown",
   "id": "95204657-72e6-4362-80ff-5ba008fa108b",
   "metadata": {},
   "source": [
    " # ML for Environmental Engineering \n",
    " By: Suheyla Tozan and Steven Gutterman"
   ]
  },
  {
   "cell_type": "code",
   "execution_count": null,
   "id": "d2f4daa2-372e-4e11-b51c-78b975a3edeb",
   "metadata": {},
   "outputs": [],
   "source": [
    "import pandas as pd\n",
    "from datetime import datetime\n",
    "import requests\n",
    "import numpy as np\n",
    "import time"
   ]
  },
  {
   "cell_type": "code",
   "execution_count": null,
   "id": "18533efa-45a3-48f2-8a5e-9b6f7d3a050e",
   "metadata": {},
   "outputs": [],
   "source": [
    "#first, we add the \"week of the year\" to each row of the data, replicating for 1993 as well\n",
    "file_path = 'metdata_2018-2023_ELABHWC.xlsx'\n",
    "df = pd.read_excel(file_path)\n",
    "\n",
    "# Function to calculate week of the year\n",
    "def get_week_of_year(date_str):\n",
    "    date_obj = datetime.strptime(date_str, '%Y-%m-%d')\n",
    "    return date_obj.isocalendar()[1]\n",
    "\n",
    "# Calculate the week of the year for each date\n",
    "df['week_of_year'] = df['date_gmt'].apply(get_week_of_year)\n",
    "\n",
    "# Save the data to a new Excel file\n",
    "df.to_excel('metdata_2018-2023_ELABHWC.xlsx', index=False)\n",
    "\n",
    "print(\"New spreadsheet with weeks of the year has been created.\")"
   ]
  },
  {
   "cell_type": "code",
   "execution_count": null,
   "id": "1d745ddc-8347-458f-9bbe-f86f007699a5",
   "metadata": {},
   "outputs": [],
   "source": [
    "#function to replace weather conditions with randomly selected conditions over the past 30 years\n",
    "\n",
    "def random_weather(n, met_2018_2023, met_1993_2023):\n",
    "    total_iterations = n * len(met_2018_2023)\n",
    "    iteration_count = 0\n",
    "    dataframes = []\n",
    "\n",
    "    for j in range(n):\n",
    "        MET_copy = met_2018_2023.copy()  #creates a copy of the MET_2013_2017 DataFrame to modify\n",
    "\n",
    "        for i in range(len(MET_copy)):\n",
    "            hour_1 = MET_copy.iloc[i]['time_gmt']\n",
    "            week_1 = MET_copy.iloc[i]['week_of_year']\n",
    "            iteration_count += 1\n",
    "\n",
    "            if iteration_count % 1000 == 0:\n",
    "                print(f\"Progress: {iteration_count} out of {total_iterations} iterations completed\")\n",
    "\n",
    "            #random sampling, selects 10 rows from the same hour at any given day 2 weeks before or 2 weeks after\n",
    "            if week_1 == 1:\n",
    "                MET_sample = met_1993_2023[(MET_1988_2017['time_gmt'] == hour_1) & (met_1993_2023['week_of_year'].isin([52, 53, 1, 2, 3]))].sample(n=10)\n",
    "            elif week_1 == 2:\n",
    "                MET_sample = met_1993_2023[(MET_1988_2017['time_gmt'] == hour_1) & (met_1993_2023['week_of_year'].isin([1, 2, 3, 4, 5]))].sample(n=10)\n",
    "            elif week_1 == 52:\n",
    "                MET_sample = met_1993_2023[(MET_1988_2017['time_gmt'] == hour_1) & (met_1993_2023['week_of_year'].isin([50, 51, 52, 1, 2]))].sample(n=10)\n",
    "            elif week_1 == 53:\n",
    "                MET_sample = met_1993_2023[(MET_1988_2017['time_gmt'] == hour_1) & (met_1993_2023['week_of_year'].isin([51, 52, 53, 1, 2]))].sample(n=10)\n",
    "            else:\n",
    "                MET_sample = met_1993_2023[(MET_1988_2017['time_gmt'] == hour_1) & (met_1993_2023['week_of_year'].between(week_1 - 2, week_1 + 2))].sample(n=10)\n",
    "\n",
    "            if not MET_sample.empty:\n",
    "                selected_index = np.random.choice(MET_sample.index, 1) #randomly selects 1 of these 10 rows\n",
    "                selected_row = MET_sample.loc[selected_index]\n",
    "\n",
    "                for col in MET_copy.columns:\n",
    "                    if col in selected_row.columns:\n",
    "                        MET_copy.at[i, col] = selected_row.iloc[0][col]\n",
    "                    else:\n",
    "                        MET_copy.at[i, col] = np.nan\n",
    "            else:\n",
    "                print(f\"No data available for hour {hour_1} and week {week_1}\") #prints if there is no data available\n",
    "\n",
    "        dataframes.append(MET_copy)\n",
    "\n",
    "    return dataframes"
   ]
  },
  {
   "cell_type": "code",
   "execution_count": null,
   "id": "21c67283-6d26-480f-8f98-135e542f3309",
   "metadata": {},
   "outputs": [],
   "source": [
    "file_path_2018_2023 = 'metdata_2018-2023_ELA.xlsx'\n",
    "file_path_1993_2023 = 'metdata_1993-2023_ELA.xlsx'\n",
    "\n",
    "met_2018_2023 = pd.read_excel(file_path_2018_2023)\n",
    "met_1993_2023 = pd.read_excel(file_path_1993_2023)\n",
    "\n",
    "n = 25 #we want 25 final datasets (already available in the GitHub)\n",
    "\n",
    "modified_dataframes = random_weather(n, MET_2013_2017, MET_1988_2017)\n",
    "\n",
    "#saves each DataFrame to a separate Excel file\n",
    "for i, df in enumerate(modified_dataframes):\n",
    "    df.to_excel(f\"output_{i+1}.xlsx\", index=False)"
   ]
  }
 ],
 "metadata": {
  "kernelspec": {
   "display_name": "Python 3 (ipykernel)",
   "language": "python",
   "name": "python3"
  },
  "language_info": {
   "codemirror_mode": {
    "name": "ipython",
    "version": 3
   },
   "file_extension": ".py",
   "mimetype": "text/x-python",
   "name": "python",
   "nbconvert_exporter": "python",
   "pygments_lexer": "ipython3",
   "version": "3.10.12"
  }
 },
 "nbformat": 4,
 "nbformat_minor": 5
}
